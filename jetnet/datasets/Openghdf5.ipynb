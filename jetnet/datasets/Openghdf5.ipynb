{
 "cells": [
  {
   "cell_type": "markdown",
   "metadata": {},
   "source": []
  },
  {
   "cell_type": "markdown",
   "metadata": {},
   "source": [
    "# Opening the dataset g.hdf5\n",
    "## File downloaded from [JetNet Zenodo](https://zenodo.org/record/6302454#.YnQiYS-B3fZ)"
   ]
  },
  {
   "cell_type": "code",
<<<<<<< HEAD
   "execution_count": 78,
=======
   "execution_count": 58,
>>>>>>> 5a55b9d98fcf767078251f8cbbcb8e9116f59ab7
   "metadata": {},
   "outputs": [
    {
     "data": {
      "text/plain": [
       "<KeysViewHDF5 ['particle_features']>"
      ]
     },
<<<<<<< HEAD
     "execution_count": 78,
=======
     "execution_count": 58,
>>>>>>> 5a55b9d98fcf767078251f8cbbcb8e9116f59ab7
     "metadata": {},
     "output_type": "execute_result"
    }
   ],
   "source": [
    "f = h5py.File(\"/Users/cpare/Downloads/q.hdf5\", \"r\")\n",
    "f.keys()"
   ]
  },
  {
   "cell_type": "code",
   "execution_count": 56,
   "metadata": {},
   "outputs": [],
   "source": [
    "import numpy as np\n",
    "import pandas as pd\n",
    "import h5py\n",
    "import hdf5plugin\n"
   ]
  },
  {
   "cell_type": "code",
<<<<<<< HEAD
   "execution_count": 79,
=======
   "execution_count": 68,
>>>>>>> 5a55b9d98fcf767078251f8cbbcb8e9116f59ab7
   "metadata": {},
   "outputs": [
    {
     "data": {
      "text/plain": [
       "<HDF5 dataset \"particle_features\": shape (170679, 30, 4), type \"<f4\">"
      ]
     },
<<<<<<< HEAD
     "execution_count": 79,
=======
     "execution_count": 68,
>>>>>>> 5a55b9d98fcf767078251f8cbbcb8e9116f59ab7
     "metadata": {},
     "output_type": "execute_result"
    }
   ],
   "source": [
    "f['particle_features']"
   ]
  },
  {
   "cell_type": "code",
   "execution_count": 60,
   "metadata": {},
   "outputs": [
    {
     "data": {
      "text/plain": [
       "array([[[-7.06178928e-03,  2.21869294e-02,  4.67220753e-01,\n",
       "          1.00000000e+00],\n",
       "        [-1.45618068e-02,  1.96854416e-02,  1.72310293e-01,\n",
       "          1.00000000e+00],\n",
       "        [-7.06181116e-03,  1.21819228e-02,  7.61248767e-02,\n",
       "          1.00000000e+00],\n",
       "        ...,\n",
       "        [ 5.54382205e-02, -2.60456413e-01,  1.64566562e-03,\n",
       "          1.00000000e+00],\n",
       "        [ 6.54382333e-02,  9.97263715e-02,  1.06755504e-03,\n",
       "          1.00000000e+00],\n",
       "        [-6.45618439e-02, -1.85418412e-01,  9.17214551e-04,\n",
       "          1.00000000e+00]],\n",
       "\n",
       "       [[-5.48612000e-03, -7.69932289e-04,  3.42562079e-01,\n",
       "          1.00000000e+00],\n",
       "        [-4.86077974e-04, -7.69940903e-04,  1.83669478e-01,\n",
       "          1.00000000e+00],\n",
       "        [-3.56856594e-03, -1.47046987e-03,  1.57902777e-01,\n",
       "          1.00000000e+00],\n",
       "        ...,\n",
       "        [ 0.00000000e+00,  0.00000000e+00,  0.00000000e+00,\n",
       "          0.00000000e+00],\n",
       "        [ 0.00000000e+00,  0.00000000e+00,  0.00000000e+00,\n",
       "          0.00000000e+00],\n",
       "        [ 0.00000000e+00,  0.00000000e+00,  0.00000000e+00,\n",
       "          0.00000000e+00]],\n",
       "\n",
       "       [[-6.03430718e-03,  1.12611437e-04,  4.02743906e-01,\n",
       "          1.00000000e+00],\n",
       "        [-8.53431411e-03,  2.61413585e-03,  2.89675325e-01,\n",
       "          1.00000000e+00],\n",
       "        [-6.85303053e-03,  6.26095512e-04,  1.16291806e-01,\n",
       "          1.00000000e+00],\n",
       "        ...,\n",
       "        [ 0.00000000e+00,  0.00000000e+00,  0.00000000e+00,\n",
       "          0.00000000e+00],\n",
       "        [ 0.00000000e+00,  0.00000000e+00,  0.00000000e+00,\n",
       "          0.00000000e+00],\n",
       "        [ 0.00000000e+00,  0.00000000e+00,  0.00000000e+00,\n",
       "          0.00000000e+00]],\n",
       "\n",
       "       ...,\n",
       "\n",
       "       [[ 6.51184283e-03, -1.94315286e-03,  6.43065929e-01,\n",
       "          1.00000000e+00],\n",
       "        [ 3.61524918e-03,  1.30531657e-03,  6.94159567e-02,\n",
       "          1.00000000e+00],\n",
       "        [ 3.67828499e-04, -5.39890910e-03,  6.27263933e-02,\n",
       "          1.00000000e+00],\n",
       "        ...,\n",
       "        [ 0.00000000e+00,  0.00000000e+00,  0.00000000e+00,\n",
       "          0.00000000e+00],\n",
       "        [ 0.00000000e+00,  0.00000000e+00,  0.00000000e+00,\n",
       "          0.00000000e+00],\n",
       "        [ 0.00000000e+00,  0.00000000e+00,  0.00000000e+00,\n",
       "          0.00000000e+00]],\n",
       "\n",
       "       [[-2.64642928e-02,  1.29551038e-01,  1.63113490e-01,\n",
       "          1.00000000e+00],\n",
       "        [-2.10121181e-02,  1.06852323e-01,  9.18808728e-02,\n",
       "          1.00000000e+00],\n",
       "        [ 2.60357652e-02, -2.08120003e-01,  5.40121421e-02,\n",
       "          1.00000000e+00],\n",
       "        ...,\n",
       "        [ 4.10357267e-02, -1.93112537e-01,  8.18552542e-03,\n",
       "          1.00000000e+00],\n",
       "        [ 1.10356594e-02,  5.20118140e-02,  7.89457839e-03,\n",
       "          1.00000000e+00],\n",
       "        [-3.00089680e-02, -1.07813388e-01,  7.36080995e-03,\n",
       "          1.00000000e+00]],\n",
       "\n",
       "       [[ 4.33155242e-03, -2.95422319e-03,  2.15535596e-01,\n",
       "          1.00000000e+00],\n",
       "        [-1.76754151e-03, -4.17363970e-03,  1.38528302e-01,\n",
       "          1.00000000e+00],\n",
       "        [-5.66837750e-03, -1.29592279e-02,  7.65051022e-02,\n",
       "          1.00000000e+00],\n",
       "        ...,\n",
       "        [-1.31684691e-02, -3.54707278e-02,  5.64760575e-03,\n",
       "          1.00000000e+00],\n",
       "        [ 2.68316530e-02,  2.95622405e-02,  4.69326042e-03,\n",
       "          1.00000000e+00],\n",
       "        [-1.31684160e-02, -2.04629935e-02,  4.24663257e-03,\n",
       "          1.00000000e+00]]], dtype=float32)"
      ]
     },
     "execution_count": 60,
     "metadata": {},
     "output_type": "execute_result"
    }
   ],
   "source": [
    "table = np.array(f['particle_features'])\n",
    "table"
   ]
  },
  {
   "cell_type": "code",
   "execution_count": 26,
   "metadata": {},
   "outputs": [
    {
     "name": "stdout",
     "output_type": "stream",
     "text": [
      "[-0.01513395  0.00476176  0.10695139  1.        ]\n"
     ]
    }
   ],
   "source": [
    "print(table[0][0])"
   ]
  },
  {
   "cell_type": "code",
   "execution_count": null,
   "metadata": {},
   "outputs": [],
   "source": []
  },
  {
   "cell_type": "code",
<<<<<<< HEAD
   "execution_count": 85,
   "metadata": {},
   "outputs": [
    {
     "ename": "TypeError",
     "evalue": "cannot create a storer if the object is not existing nor a value are passed",
     "output_type": "error",
     "traceback": [
      "\u001b[0;31m---------------------------------------------------------------------------\u001b[0m",
      "\u001b[0;31mTypeError\u001b[0m                                 Traceback (most recent call last)",
      "\u001b[1;32m/Users/cpare/JetNet/JetNet/jetnet/datasets/Openghdf5.ipynb Cell 9'\u001b[0m in \u001b[0;36m<module>\u001b[0;34m\u001b[0m\n\u001b[0;32m----> <a href='vscode-notebook-cell:/Users/cpare/JetNet/JetNet/jetnet/datasets/Openghdf5.ipynb#ch0000007?line=0'>1</a>\u001b[0m pdtable \u001b[39m=\u001b[39m pd\u001b[39m.\u001b[39;49mread_hdf(\u001b[39m\"\u001b[39;49m\u001b[39m/Users/cpare/Downloads/q.hdf5\u001b[39;49m\u001b[39m\"\u001b[39;49m, key \u001b[39m=\u001b[39;49m \u001b[39m\"\u001b[39;49m\u001b[39mparticle_features\u001b[39;49m\u001b[39m\"\u001b[39;49m)\n",
      "File \u001b[0;32m~/opt/anaconda3/envs/myenv/lib/python3.9/site-packages/pandas/io/pytables.py:455\u001b[0m, in \u001b[0;36mread_hdf\u001b[0;34m(path_or_buf, key, mode, errors, where, start, stop, columns, iterator, chunksize, **kwargs)\u001b[0m\n\u001b[1;32m    <a href='file:///~/opt/anaconda3/envs/myenv/lib/python3.9/site-packages/pandas/io/pytables.py?line=449'>450</a>\u001b[0m                 \u001b[39mraise\u001b[39;00m \u001b[39mValueError\u001b[39;00m(\n\u001b[1;32m    <a href='file:///~/opt/anaconda3/envs/myenv/lib/python3.9/site-packages/pandas/io/pytables.py?line=450'>451</a>\u001b[0m                     \u001b[39m\"\u001b[39m\u001b[39mkey must be provided when HDF5 \u001b[39m\u001b[39m\"\u001b[39m\n\u001b[1;32m    <a href='file:///~/opt/anaconda3/envs/myenv/lib/python3.9/site-packages/pandas/io/pytables.py?line=451'>452</a>\u001b[0m                     \u001b[39m\"\u001b[39m\u001b[39mfile contains multiple datasets.\u001b[39m\u001b[39m\"\u001b[39m\n\u001b[1;32m    <a href='file:///~/opt/anaconda3/envs/myenv/lib/python3.9/site-packages/pandas/io/pytables.py?line=452'>453</a>\u001b[0m                 )\n\u001b[1;32m    <a href='file:///~/opt/anaconda3/envs/myenv/lib/python3.9/site-packages/pandas/io/pytables.py?line=453'>454</a>\u001b[0m         key \u001b[39m=\u001b[39m candidate_only_group\u001b[39m.\u001b[39m_v_pathname\n\u001b[0;32m--> <a href='file:///~/opt/anaconda3/envs/myenv/lib/python3.9/site-packages/pandas/io/pytables.py?line=454'>455</a>\u001b[0m     \u001b[39mreturn\u001b[39;00m store\u001b[39m.\u001b[39;49mselect(\n\u001b[1;32m    <a href='file:///~/opt/anaconda3/envs/myenv/lib/python3.9/site-packages/pandas/io/pytables.py?line=455'>456</a>\u001b[0m         key,\n\u001b[1;32m    <a href='file:///~/opt/anaconda3/envs/myenv/lib/python3.9/site-packages/pandas/io/pytables.py?line=456'>457</a>\u001b[0m         where\u001b[39m=\u001b[39;49mwhere,\n\u001b[1;32m    <a href='file:///~/opt/anaconda3/envs/myenv/lib/python3.9/site-packages/pandas/io/pytables.py?line=457'>458</a>\u001b[0m         start\u001b[39m=\u001b[39;49mstart,\n\u001b[1;32m    <a href='file:///~/opt/anaconda3/envs/myenv/lib/python3.9/site-packages/pandas/io/pytables.py?line=458'>459</a>\u001b[0m         stop\u001b[39m=\u001b[39;49mstop,\n\u001b[1;32m    <a href='file:///~/opt/anaconda3/envs/myenv/lib/python3.9/site-packages/pandas/io/pytables.py?line=459'>460</a>\u001b[0m         columns\u001b[39m=\u001b[39;49mcolumns,\n\u001b[1;32m    <a href='file:///~/opt/anaconda3/envs/myenv/lib/python3.9/site-packages/pandas/io/pytables.py?line=460'>461</a>\u001b[0m         iterator\u001b[39m=\u001b[39;49miterator,\n\u001b[1;32m    <a href='file:///~/opt/anaconda3/envs/myenv/lib/python3.9/site-packages/pandas/io/pytables.py?line=461'>462</a>\u001b[0m         chunksize\u001b[39m=\u001b[39;49mchunksize,\n\u001b[1;32m    <a href='file:///~/opt/anaconda3/envs/myenv/lib/python3.9/site-packages/pandas/io/pytables.py?line=462'>463</a>\u001b[0m         auto_close\u001b[39m=\u001b[39;49mauto_close,\n\u001b[1;32m    <a href='file:///~/opt/anaconda3/envs/myenv/lib/python3.9/site-packages/pandas/io/pytables.py?line=463'>464</a>\u001b[0m     )\n\u001b[1;32m    <a href='file:///~/opt/anaconda3/envs/myenv/lib/python3.9/site-packages/pandas/io/pytables.py?line=464'>465</a>\u001b[0m \u001b[39mexcept\u001b[39;00m (\u001b[39mValueError\u001b[39;00m, \u001b[39mTypeError\u001b[39;00m, \u001b[39mKeyError\u001b[39;00m):\n\u001b[1;32m    <a href='file:///~/opt/anaconda3/envs/myenv/lib/python3.9/site-packages/pandas/io/pytables.py?line=465'>466</a>\u001b[0m     \u001b[39mif\u001b[39;00m \u001b[39mnot\u001b[39;00m \u001b[39misinstance\u001b[39m(path_or_buf, HDFStore):\n\u001b[1;32m    <a href='file:///~/opt/anaconda3/envs/myenv/lib/python3.9/site-packages/pandas/io/pytables.py?line=466'>467</a>\u001b[0m         \u001b[39m# if there is an error, close the store if we opened it.\u001b[39;00m\n",
      "File \u001b[0;32m~/opt/anaconda3/envs/myenv/lib/python3.9/site-packages/pandas/io/pytables.py:854\u001b[0m, in \u001b[0;36mHDFStore.select\u001b[0;34m(self, key, where, start, stop, columns, iterator, chunksize, auto_close)\u001b[0m\n\u001b[1;32m    <a href='file:///~/opt/anaconda3/envs/myenv/lib/python3.9/site-packages/pandas/io/pytables.py?line=851'>852</a>\u001b[0m \u001b[39m# create the storer and axes\u001b[39;00m\n\u001b[1;32m    <a href='file:///~/opt/anaconda3/envs/myenv/lib/python3.9/site-packages/pandas/io/pytables.py?line=852'>853</a>\u001b[0m where \u001b[39m=\u001b[39m _ensure_term(where, scope_level\u001b[39m=\u001b[39m\u001b[39m1\u001b[39m)\n\u001b[0;32m--> <a href='file:///~/opt/anaconda3/envs/myenv/lib/python3.9/site-packages/pandas/io/pytables.py?line=853'>854</a>\u001b[0m s \u001b[39m=\u001b[39m \u001b[39mself\u001b[39;49m\u001b[39m.\u001b[39;49m_create_storer(group)\n\u001b[1;32m    <a href='file:///~/opt/anaconda3/envs/myenv/lib/python3.9/site-packages/pandas/io/pytables.py?line=854'>855</a>\u001b[0m s\u001b[39m.\u001b[39minfer_axes()\n\u001b[1;32m    <a href='file:///~/opt/anaconda3/envs/myenv/lib/python3.9/site-packages/pandas/io/pytables.py?line=856'>857</a>\u001b[0m \u001b[39m# function to call on iteration\u001b[39;00m\n",
      "File \u001b[0;32m~/opt/anaconda3/envs/myenv/lib/python3.9/site-packages/pandas/io/pytables.py:1672\u001b[0m, in \u001b[0;36mHDFStore._create_storer\u001b[0;34m(self, group, format, value, encoding, errors)\u001b[0m\n\u001b[1;32m   <a href='file:///~/opt/anaconda3/envs/myenv/lib/python3.9/site-packages/pandas/io/pytables.py?line=1669'>1670</a>\u001b[0m         tt \u001b[39m=\u001b[39m \u001b[39m\"\u001b[39m\u001b[39mgeneric_table\u001b[39m\u001b[39m\"\u001b[39m\n\u001b[1;32m   <a href='file:///~/opt/anaconda3/envs/myenv/lib/python3.9/site-packages/pandas/io/pytables.py?line=1670'>1671</a>\u001b[0m     \u001b[39melse\u001b[39;00m:\n\u001b[0;32m-> <a href='file:///~/opt/anaconda3/envs/myenv/lib/python3.9/site-packages/pandas/io/pytables.py?line=1671'>1672</a>\u001b[0m         \u001b[39mraise\u001b[39;00m \u001b[39mTypeError\u001b[39;00m(\n\u001b[1;32m   <a href='file:///~/opt/anaconda3/envs/myenv/lib/python3.9/site-packages/pandas/io/pytables.py?line=1672'>1673</a>\u001b[0m             \u001b[39m\"\u001b[39m\u001b[39mcannot create a storer if the object is not existing \u001b[39m\u001b[39m\"\u001b[39m\n\u001b[1;32m   <a href='file:///~/opt/anaconda3/envs/myenv/lib/python3.9/site-packages/pandas/io/pytables.py?line=1673'>1674</a>\u001b[0m             \u001b[39m\"\u001b[39m\u001b[39mnor a value are passed\u001b[39m\u001b[39m\"\u001b[39m\n\u001b[1;32m   <a href='file:///~/opt/anaconda3/envs/myenv/lib/python3.9/site-packages/pandas/io/pytables.py?line=1674'>1675</a>\u001b[0m         )\n\u001b[1;32m   <a href='file:///~/opt/anaconda3/envs/myenv/lib/python3.9/site-packages/pandas/io/pytables.py?line=1675'>1676</a>\u001b[0m \u001b[39melse\u001b[39;00m:\n\u001b[1;32m   <a href='file:///~/opt/anaconda3/envs/myenv/lib/python3.9/site-packages/pandas/io/pytables.py?line=1676'>1677</a>\u001b[0m     \u001b[39mif\u001b[39;00m \u001b[39misinstance\u001b[39m(value, Series):\n",
      "\u001b[0;31mTypeError\u001b[0m: cannot create a storer if the object is not existing nor a value are passed"
=======
   "execution_count": 66,
   "metadata": {},
   "outputs": [
    {
     "ename": "KeyError",
     "evalue": "'No object named table in the file'",
     "output_type": "error",
     "traceback": [
      "\u001b[0;31m---------------------------------------------------------------------------\u001b[0m",
      "\u001b[0;31mKeyError\u001b[0m                                  Traceback (most recent call last)",
      "\u001b[1;32m/Users/cpare/JetNet/JetNet/jetnet/datasets/Openghdf5.ipynb Cell 9'\u001b[0m in \u001b[0;36m<module>\u001b[0;34m\u001b[0m\n\u001b[0;32m----> <a href='vscode-notebook-cell:/Users/cpare/JetNet/JetNet/jetnet/datasets/Openghdf5.ipynb#ch0000007?line=0'>1</a>\u001b[0m pdtable \u001b[39m=\u001b[39m pd\u001b[39m.\u001b[39;49mread_hdf(\u001b[39m\"\u001b[39;49m\u001b[39m/Users/cpare/Downloads/g.hdf5\u001b[39;49m\u001b[39m\"\u001b[39;49m, key\u001b[39m=\u001b[39;49m\u001b[39m\"\u001b[39;49m\u001b[39mtable\u001b[39;49m\u001b[39m\"\u001b[39;49m)\n",
      "File \u001b[0;32m~/opt/anaconda3/envs/myenv/lib/python3.9/site-packages/pandas/io/pytables.py:455\u001b[0m, in \u001b[0;36mread_hdf\u001b[0;34m(path_or_buf, key, mode, errors, where, start, stop, columns, iterator, chunksize, **kwargs)\u001b[0m\n\u001b[1;32m    <a href='file:///~/opt/anaconda3/envs/myenv/lib/python3.9/site-packages/pandas/io/pytables.py?line=449'>450</a>\u001b[0m                 \u001b[39mraise\u001b[39;00m \u001b[39mValueError\u001b[39;00m(\n\u001b[1;32m    <a href='file:///~/opt/anaconda3/envs/myenv/lib/python3.9/site-packages/pandas/io/pytables.py?line=450'>451</a>\u001b[0m                     \u001b[39m\"\u001b[39m\u001b[39mkey must be provided when HDF5 \u001b[39m\u001b[39m\"\u001b[39m\n\u001b[1;32m    <a href='file:///~/opt/anaconda3/envs/myenv/lib/python3.9/site-packages/pandas/io/pytables.py?line=451'>452</a>\u001b[0m                     \u001b[39m\"\u001b[39m\u001b[39mfile contains multiple datasets.\u001b[39m\u001b[39m\"\u001b[39m\n\u001b[1;32m    <a href='file:///~/opt/anaconda3/envs/myenv/lib/python3.9/site-packages/pandas/io/pytables.py?line=452'>453</a>\u001b[0m                 )\n\u001b[1;32m    <a href='file:///~/opt/anaconda3/envs/myenv/lib/python3.9/site-packages/pandas/io/pytables.py?line=453'>454</a>\u001b[0m         key \u001b[39m=\u001b[39m candidate_only_group\u001b[39m.\u001b[39m_v_pathname\n\u001b[0;32m--> <a href='file:///~/opt/anaconda3/envs/myenv/lib/python3.9/site-packages/pandas/io/pytables.py?line=454'>455</a>\u001b[0m     \u001b[39mreturn\u001b[39;00m store\u001b[39m.\u001b[39;49mselect(\n\u001b[1;32m    <a href='file:///~/opt/anaconda3/envs/myenv/lib/python3.9/site-packages/pandas/io/pytables.py?line=455'>456</a>\u001b[0m         key,\n\u001b[1;32m    <a href='file:///~/opt/anaconda3/envs/myenv/lib/python3.9/site-packages/pandas/io/pytables.py?line=456'>457</a>\u001b[0m         where\u001b[39m=\u001b[39;49mwhere,\n\u001b[1;32m    <a href='file:///~/opt/anaconda3/envs/myenv/lib/python3.9/site-packages/pandas/io/pytables.py?line=457'>458</a>\u001b[0m         start\u001b[39m=\u001b[39;49mstart,\n\u001b[1;32m    <a href='file:///~/opt/anaconda3/envs/myenv/lib/python3.9/site-packages/pandas/io/pytables.py?line=458'>459</a>\u001b[0m         stop\u001b[39m=\u001b[39;49mstop,\n\u001b[1;32m    <a href='file:///~/opt/anaconda3/envs/myenv/lib/python3.9/site-packages/pandas/io/pytables.py?line=459'>460</a>\u001b[0m         columns\u001b[39m=\u001b[39;49mcolumns,\n\u001b[1;32m    <a href='file:///~/opt/anaconda3/envs/myenv/lib/python3.9/site-packages/pandas/io/pytables.py?line=460'>461</a>\u001b[0m         iterator\u001b[39m=\u001b[39;49miterator,\n\u001b[1;32m    <a href='file:///~/opt/anaconda3/envs/myenv/lib/python3.9/site-packages/pandas/io/pytables.py?line=461'>462</a>\u001b[0m         chunksize\u001b[39m=\u001b[39;49mchunksize,\n\u001b[1;32m    <a href='file:///~/opt/anaconda3/envs/myenv/lib/python3.9/site-packages/pandas/io/pytables.py?line=462'>463</a>\u001b[0m         auto_close\u001b[39m=\u001b[39;49mauto_close,\n\u001b[1;32m    <a href='file:///~/opt/anaconda3/envs/myenv/lib/python3.9/site-packages/pandas/io/pytables.py?line=463'>464</a>\u001b[0m     )\n\u001b[1;32m    <a href='file:///~/opt/anaconda3/envs/myenv/lib/python3.9/site-packages/pandas/io/pytables.py?line=464'>465</a>\u001b[0m \u001b[39mexcept\u001b[39;00m (\u001b[39mValueError\u001b[39;00m, \u001b[39mTypeError\u001b[39;00m, \u001b[39mKeyError\u001b[39;00m):\n\u001b[1;32m    <a href='file:///~/opt/anaconda3/envs/myenv/lib/python3.9/site-packages/pandas/io/pytables.py?line=465'>466</a>\u001b[0m     \u001b[39mif\u001b[39;00m \u001b[39mnot\u001b[39;00m \u001b[39misinstance\u001b[39m(path_or_buf, HDFStore):\n\u001b[1;32m    <a href='file:///~/opt/anaconda3/envs/myenv/lib/python3.9/site-packages/pandas/io/pytables.py?line=466'>467</a>\u001b[0m         \u001b[39m# if there is an error, close the store if we opened it.\u001b[39;00m\n",
      "File \u001b[0;32m~/opt/anaconda3/envs/myenv/lib/python3.9/site-packages/pandas/io/pytables.py:850\u001b[0m, in \u001b[0;36mHDFStore.select\u001b[0;34m(self, key, where, start, stop, columns, iterator, chunksize, auto_close)\u001b[0m\n\u001b[1;32m    <a href='file:///~/opt/anaconda3/envs/myenv/lib/python3.9/site-packages/pandas/io/pytables.py?line=847'>848</a>\u001b[0m group \u001b[39m=\u001b[39m \u001b[39mself\u001b[39m\u001b[39m.\u001b[39mget_node(key)\n\u001b[1;32m    <a href='file:///~/opt/anaconda3/envs/myenv/lib/python3.9/site-packages/pandas/io/pytables.py?line=848'>849</a>\u001b[0m \u001b[39mif\u001b[39;00m group \u001b[39mis\u001b[39;00m \u001b[39mNone\u001b[39;00m:\n\u001b[0;32m--> <a href='file:///~/opt/anaconda3/envs/myenv/lib/python3.9/site-packages/pandas/io/pytables.py?line=849'>850</a>\u001b[0m     \u001b[39mraise\u001b[39;00m \u001b[39mKeyError\u001b[39;00m(\u001b[39mf\u001b[39m\u001b[39m\"\u001b[39m\u001b[39mNo object named \u001b[39m\u001b[39m{\u001b[39;00mkey\u001b[39m}\u001b[39;00m\u001b[39m in the file\u001b[39m\u001b[39m\"\u001b[39m)\n\u001b[1;32m    <a href='file:///~/opt/anaconda3/envs/myenv/lib/python3.9/site-packages/pandas/io/pytables.py?line=851'>852</a>\u001b[0m \u001b[39m# create the storer and axes\u001b[39;00m\n\u001b[1;32m    <a href='file:///~/opt/anaconda3/envs/myenv/lib/python3.9/site-packages/pandas/io/pytables.py?line=852'>853</a>\u001b[0m where \u001b[39m=\u001b[39m _ensure_term(where, scope_level\u001b[39m=\u001b[39m\u001b[39m1\u001b[39m)\n",
      "\u001b[0;31mKeyError\u001b[0m: 'No object named table in the file'"
>>>>>>> 5a55b9d98fcf767078251f8cbbcb8e9116f59ab7
     ]
    }
   ],
   "source": [
<<<<<<< HEAD
    "pdtable = pd.read_hdf(\"/Users/cpare/Downloads/q.hdf5\", key = \"particle_features\")"
=======
    "pdtable = pd.read_hdf(\"/Users/cpare/Downloads/g.hdf5\", key=\"a\")\n"
>>>>>>> 5a55b9d98fcf767078251f8cbbcb8e9116f59ab7
   ]
  },
  {
   "cell_type": "code",
   "execution_count": 34,
   "metadata": {},
   "outputs": [
    {
     "name": "stdout",
     "output_type": "stream",
     "text": [
      "\u001b[0;31mSignature:\u001b[0m\n",
      "\u001b[0mpd\u001b[0m\u001b[0;34m.\u001b[0m\u001b[0mread_hdf\u001b[0m\u001b[0;34m(\u001b[0m\u001b[0;34m\u001b[0m\n",
      "\u001b[0;34m\u001b[0m    \u001b[0mpath_or_buf\u001b[0m\u001b[0;34m,\u001b[0m\u001b[0;34m\u001b[0m\n",
      "\u001b[0;34m\u001b[0m    \u001b[0mkey\u001b[0m\u001b[0;34m=\u001b[0m\u001b[0;32mNone\u001b[0m\u001b[0;34m,\u001b[0m\u001b[0;34m\u001b[0m\n",
      "\u001b[0;34m\u001b[0m    \u001b[0mmode\u001b[0m\u001b[0;34m:\u001b[0m \u001b[0;34m'str'\u001b[0m \u001b[0;34m=\u001b[0m \u001b[0;34m'r'\u001b[0m\u001b[0;34m,\u001b[0m\u001b[0;34m\u001b[0m\n",
      "\u001b[0;34m\u001b[0m    \u001b[0merrors\u001b[0m\u001b[0;34m:\u001b[0m \u001b[0;34m'str'\u001b[0m \u001b[0;34m=\u001b[0m \u001b[0;34m'strict'\u001b[0m\u001b[0;34m,\u001b[0m\u001b[0;34m\u001b[0m\n",
      "\u001b[0;34m\u001b[0m    \u001b[0mwhere\u001b[0m\u001b[0;34m=\u001b[0m\u001b[0;32mNone\u001b[0m\u001b[0;34m,\u001b[0m\u001b[0;34m\u001b[0m\n",
      "\u001b[0;34m\u001b[0m    \u001b[0mstart\u001b[0m\u001b[0;34m:\u001b[0m \u001b[0;34m'int | None'\u001b[0m \u001b[0;34m=\u001b[0m \u001b[0;32mNone\u001b[0m\u001b[0;34m,\u001b[0m\u001b[0;34m\u001b[0m\n",
      "\u001b[0;34m\u001b[0m    \u001b[0mstop\u001b[0m\u001b[0;34m:\u001b[0m \u001b[0;34m'int | None'\u001b[0m \u001b[0;34m=\u001b[0m \u001b[0;32mNone\u001b[0m\u001b[0;34m,\u001b[0m\u001b[0;34m\u001b[0m\n",
      "\u001b[0;34m\u001b[0m    \u001b[0mcolumns\u001b[0m\u001b[0;34m=\u001b[0m\u001b[0;32mNone\u001b[0m\u001b[0;34m,\u001b[0m\u001b[0;34m\u001b[0m\n",
      "\u001b[0;34m\u001b[0m    \u001b[0miterator\u001b[0m\u001b[0;34m=\u001b[0m\u001b[0;32mFalse\u001b[0m\u001b[0;34m,\u001b[0m\u001b[0;34m\u001b[0m\n",
      "\u001b[0;34m\u001b[0m    \u001b[0mchunksize\u001b[0m\u001b[0;34m:\u001b[0m \u001b[0;34m'int | None'\u001b[0m \u001b[0;34m=\u001b[0m \u001b[0;32mNone\u001b[0m\u001b[0;34m,\u001b[0m\u001b[0;34m\u001b[0m\n",
      "\u001b[0;34m\u001b[0m    \u001b[0;34m**\u001b[0m\u001b[0mkwargs\u001b[0m\u001b[0;34m,\u001b[0m\u001b[0;34m\u001b[0m\n",
      "\u001b[0;34m\u001b[0m\u001b[0;34m)\u001b[0m\u001b[0;34m\u001b[0m\u001b[0;34m\u001b[0m\u001b[0m\n",
      "\u001b[0;31mDocstring:\u001b[0m\n",
      "Read from the store, close it if we opened it.\n",
      "\n",
      "Retrieve pandas object stored in file, optionally based on where\n",
      "criteria.\n",
      "\n",
      ".. warning::\n",
      "\n",
      "   Pandas uses PyTables for reading and writing HDF5 files, which allows\n",
      "   serializing object-dtype data with pickle when using the \"fixed\" format.\n",
      "   Loading pickled data received from untrusted sources can be unsafe.\n",
      "\n",
      "   See: https://docs.python.org/3/library/pickle.html for more.\n",
      "\n",
      "Parameters\n",
      "----------\n",
      "path_or_buf : str, path object, pandas.HDFStore\n",
      "    Any valid string path is acceptable. Only supports the local file system,\n",
      "    remote URLs and file-like objects are not supported.\n",
      "\n",
      "    If you want to pass in a path object, pandas accepts any\n",
      "    ``os.PathLike``.\n",
      "\n",
      "    Alternatively, pandas accepts an open :class:`pandas.HDFStore` object.\n",
      "\n",
      "key : object, optional\n",
      "    The group identifier in the store. Can be omitted if the HDF file\n",
      "    contains a single pandas object.\n",
      "mode : {'r', 'r+', 'a'}, default 'r'\n",
      "    Mode to use when opening the file. Ignored if path_or_buf is a\n",
      "    :class:`pandas.HDFStore`. Default is 'r'.\n",
      "errors : str, default 'strict'\n",
      "    Specifies how encoding and decoding errors are to be handled.\n",
      "    See the errors argument for :func:`open` for a full list\n",
      "    of options.\n",
      "where : list, optional\n",
      "    A list of Term (or convertible) objects.\n",
      "start : int, optional\n",
      "    Row number to start selection.\n",
      "stop  : int, optional\n",
      "    Row number to stop selection.\n",
      "columns : list, optional\n",
      "    A list of columns names to return.\n",
      "iterator : bool, optional\n",
      "    Return an iterator object.\n",
      "chunksize : int, optional\n",
      "    Number of rows to include in an iteration when using an iterator.\n",
      "**kwargs\n",
      "    Additional keyword arguments passed to HDFStore.\n",
      "\n",
      "Returns\n",
      "-------\n",
      "item : object\n",
      "    The selected object. Return type depends on the object stored.\n",
      "\n",
      "See Also\n",
      "--------\n",
      "DataFrame.to_hdf : Write a HDF file from a DataFrame.\n",
      "HDFStore : Low-level access to HDF files.\n",
      "\n",
      "Examples\n",
      "--------\n",
      ">>> df = pd.DataFrame([[1, 1.0, 'a']], columns=['x', 'y', 'z'])  # doctest: +SKIP\n",
      ">>> df.to_hdf('./store.h5', 'data')  # doctest: +SKIP\n",
      ">>> reread = pd.read_hdf('./store.h5')  # doctest: +SKIP\n",
      "\u001b[0;31mFile:\u001b[0m      ~/opt/anaconda3/envs/myenv/lib/python3.9/site-packages/pandas/io/pytables.py\n",
      "\u001b[0;31mType:\u001b[0m      function\n"
     ]
    }
   ],
   "source": [
    "pd.read_hdf?"
   ]
  },
  {
   "cell_type": "markdown",
   "metadata": {},
   "source": []
  }
 ],
 "metadata": {
  "interpreter": {
   "hash": "778ce5d35af1dda3b7990d3b1b584fe8bd02fd4e1fafa51f18e59d98f620d5dc"
  },
  "kernelspec": {
   "display_name": "Python 3.9.7 ('myenv')",
   "language": "python",
   "name": "python3"
  },
  "language_info": {
   "codemirror_mode": {
    "name": "ipython",
    "version": 3
   },
   "file_extension": ".py",
   "mimetype": "text/x-python",
   "name": "python",
   "nbconvert_exporter": "python",
   "pygments_lexer": "ipython3",
   "version": "3.9.7"
  },
  "orig_nbformat": 4
 },
 "nbformat": 4,
 "nbformat_minor": 2
}
